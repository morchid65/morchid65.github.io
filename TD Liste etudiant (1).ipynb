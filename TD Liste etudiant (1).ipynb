{
 "cells": [
  {
   "cell_type": "code",
   "execution_count": 2,
   "metadata": {},
   "outputs": [
    {
     "name": "stdout",
     "output_type": "stream",
     "text": [
      "1\n",
      "2\n",
      "3\n"
     ]
    }
   ],
   "source": [
    "hauteurs = [1, 2, 3]\n",
    "print(hauteurs[0])\n",
    "print(hauteurs[1])\n",
    "print(hauteurs[2])\n",
    "print(hauteurs[3])"
   ]
  },
  {
   "cell_type": "markdown",
   "metadata": {},
   "source": [
    "# TD Listes\n",
    "\n",
    "## Exercice 0 :\n",
    "Exécuter le code suivant : "
   ]
  },
  {
   "cell_type": "markdown",
   "metadata": {},
   "source": [
    "print(hauteurs[3]) = 4 et les hauteurs demandés devrais etre egale à 3."
   ]
  },
  {
   "cell_type": "markdown",
   "metadata": {},
   "source": []
  },
  {
   "cell_type": "markdown",
   "metadata": {},
   "source": [
    "### Exercice 1 : \n",
    "Écrire un programme qui prend en compte une liste `tab` et un entier `n` et qui renvoie la valeur de cette liste ayant pour indice `n` (on supposera que -len(tab) <= n < len(tab)).\n",
    "\n",
    "```\n",
    "Exemple : \n",
    "tab = [10, 20, 30, 40, 50]\n",
    "n = 2\n",
    "La valeur à l'indice 2 est 30\n",
    "```"
   ]
  },
  {
   "cell_type": "code",
   "execution_count": 6,
   "metadata": {},
   "outputs": [],
   "source": [
    "tab = [8, 12, 15, 2, 4]\n",
    "n = 0"
   ]
  },
  {
   "cell_type": "markdown",
   "metadata": {},
   "source": [
    "\n",
    "### Exercice 2\n",
    "Sans utiliser la fonction `len`, écrire un programme qui avec une liste `tab`  et qui renvoie la longueur de cette liste.\n",
    "\n",
    "Exemple : \n",
    "```\n",
    "tab = [10, 20, 30, 40, 50]\n",
    "La longueur de la liste est 5\n",
    "```\n",
    "        "
   ]
  },
  {
   "cell_type": "code",
   "execution_count": 9,
   "metadata": {},
   "outputs": [],
   "source": [
    "tab = [1, 2]"
   ]
  },
  {
   "cell_type": "markdown",
   "metadata": {},
   "source": [
    "\n",
    "### Exercice \n",
    "\n",
    "On donne la liste des jours de la semaine : `jours = ['lundi', 'mardi', 'mercredi', 'jeudi', 'vendredi', 'samedi', 'dimanche']`. \n",
    "En utilisant la fonction `randint` du module `random` pour générer un nombre pseudo-aléatoire compris entre 0 et 6 (`random.randint(0, 6)`), écrire un programme qui renvoie aléatoirement un jour de la semaine.\n",
    "\n",
    "Exemple : \n",
    "```\n",
    "Le jour aléatoire est mardi\n",
    "```\n",
    "\n",
    "Prototype de votre code : \n",
    "```python\n",
    "import random\n",
    "\n",
    "jours = ['lundi', 'mardi', 'mercredi', 'jeudi', 'vendredi', 'samedi', 'dimanche']\n",
    "indice = random.randint(0, 6)\n",
    "# Insérer votre code ici\n",
    "```"
   ]
  },
  {
   "cell_type": "code",
   "execution_count": 42,
   "metadata": {},
   "outputs": [
    {
     "ename": "SyntaxError",
     "evalue": "invalid syntax (<ipython-input-42-c7f1ff43c50a>, line 3)",
     "output_type": "error",
     "traceback": [
      "\u001b[1;36m  File \u001b[1;32m\"<ipython-input-42-c7f1ff43c50a>\"\u001b[1;36m, line \u001b[1;32m3\u001b[0m\n\u001b[1;33m    if mardi == 1\u001b[0m\n\u001b[1;37m                 ^\u001b[0m\n\u001b[1;31mSyntaxError\u001b[0m\u001b[1;31m:\u001b[0m invalid syntax\n"
     ]
    }
   ],
   "source": [
    "import random\n",
    "int(input('Renvoie aleatoirement un jour de la semaine'))\n",
    "if mardi == 1\n",
    "print (random.randint(0, 6))\n",
    "jours = ['lundi', 'mardi', 'mercredi', 'jeudi', 'vendredi', 'samedi', 'dimanche']\n",
    "indice = (random.randint(0, 6))\n",
    "jours = random.randint()"
   ]
  },
  {
   "cell_type": "markdown",
   "metadata": {},
   "source": [
    "\n",
    "### Exercice 4\n",
    "Écrire un programme qui prend en compte une liste de nombres `tab` et qui renvoie la somme de ces nombres.\n",
    "\n",
    "Exemple : \n",
    "```\n",
    "tab = [10, 20, 30, 40, 50]\n",
    "La somme des nombres est 150\n",
    "```\n",
    "        "
   ]
  },
  {
   "cell_type": "code",
   "execution_count": 1,
   "metadata": {},
   "outputs": [
    {
     "name": "stdout",
     "output_type": "stream",
     "text": [
      "La somme des nombres est 150\n"
     ]
    }
   ],
   "source": [
    "tab = [10, 20, 30, 40, 50]\n",
    "somme = sum(tab)\n",
    "print(f\"La somme des nombres est {somme}\")"
   ]
  },
  {
   "cell_type": "markdown",
   "metadata": {},
   "source": [
    "\n",
    "### Exercice 5\n",
    "Écrire un programme qui prend en compte une liste de nombres `tab` et qui renvoie la moyenne de ces nombres.\n",
    "\n",
    "Exemple : \n",
    "```\n",
    "tab = [10, 20, 30, 40, 50]\n",
    "La moyenne des nombres est 30\n",
    "```\n",
    "        "
   ]
  },
  {
   "cell_type": "code",
   "execution_count": 2,
   "metadata": {},
   "outputs": [
    {
     "name": "stdout",
     "output_type": "stream",
     "text": [
      "La moyenne des nombres est 30.0\n"
     ]
    }
   ],
   "source": [
    "tab = [10, 20, 30, 40, 50]\n",
    "somme = sum(tab)\n",
    "nombre_elements = len(tab)\n",
    "moyenne = somme / nombre_elements\n",
    "print(f\"La moyenne des nombres est {moyenne}\")"
   ]
  },
  {
   "cell_type": "markdown",
   "metadata": {},
   "source": [
    "\n",
    "### Exercice 6\n",
    "Écrire un programme qui prend en compte une liste de nombres entiers `tab` et qui renvoie le minimum de cette liste.\n",
    "\n",
    "Exemple : \n",
    "```\n",
    "tab = [10, 20, 30, 40, 50]\n",
    "Le minimum des nombres est 10\n",
    "```\n",
    "        "
   ]
  },
  {
   "cell_type": "code",
   "execution_count": 3,
   "metadata": {},
   "outputs": [
    {
     "name": "stdout",
     "output_type": "stream",
     "text": [
      "Le minimum des nombres est 10\n"
     ]
    }
   ],
   "source": [
    "tab = [10, 20, 30, 40, 50]\n",
    "minimum = min(tab)\n",
    "print(f\"Le minimum des nombres est {minimum}\")"
   ]
  },
  {
   "cell_type": "markdown",
   "metadata": {},
   "source": [
    "\n",
    "### Exercice 7\n",
    "Écrire un programme qui prend en compte un nombre entier naturel `n` et qui renvoie la liste formée de tous les entiers compris entre 0 et `n` (inclus).\n",
    "\n",
    "Exemple : \n",
    "```\n",
    "n = 10\n",
    "La liste des entiers de 0 à 10 est [0, 1, 2, 3, 4, 5, 6, 7, 8, 9, 10]\n",
    "```\n",
    "        "
   ]
  },
  {
   "cell_type": "code",
   "execution_count": 4,
   "metadata": {},
   "outputs": [
    {
     "name": "stdout",
     "output_type": "stream",
     "text": [
      "La liste des entiers de 0 à 10 est [0, 1, 2, 3, 4, 5, 6, 7, 8, 9, 10]\n"
     ]
    }
   ],
   "source": [
    "n = 10\n",
    "liste_entiers = list(range(n + 1))\n",
    "print(f\"La liste des entiers de 0 à {n} est {liste_entiers}\")"
   ]
  },
  {
   "cell_type": "markdown",
   "metadata": {},
   "source": [
    "\n",
    "### Exercice 8\n",
    "Écrire un programme qui prend en compte un nombre entier naturel `n` et qui renvoie la liste des entiers pairs de 0 à `n` (inclus).\n",
    "\n",
    "Exemple : \n",
    "```\n",
    "n = 10\n",
    "La liste des entiers pairs de 0 à 10 est [0, 2, 4, 6, 8, 10]\n",
    "```\n",
    "        "
   ]
  },
  {
   "cell_type": "code",
   "execution_count": 5,
   "metadata": {},
   "outputs": [
    {
     "name": "stdout",
     "output_type": "stream",
     "text": [
      "La liste des entiers pairs de 0 à 10 est [0, 2, 4, 6, 8, 10]\n"
     ]
    }
   ],
   "source": [
    "n = 10\n",
    "liste_pairs = [i for i in range(n + 1) if i % 2 == 0]\n",
    "print(f\"La liste des entiers pairs de 0 à {n} est {liste_pairs}\")"
   ]
  },
  {
   "cell_type": "markdown",
   "metadata": {},
   "source": [
    "### Exercice 9\n",
    "Écrire un programme qui prend en compte un nombre entier naturel `n` supérieur ou égal à 1 et qui représente le lancé simultané de `n` dés. On utilisera la fonction `randint` du module `random`.\n",
    "\n",
    "Exemple : \n",
    "```\n",
    "n = 5\n",
    "Les résultats des 5 dés sont [2, 6, 3, 4, 1]\n",
    "```\n",
    "        "
   ]
  },
  {
   "cell_type": "code",
   "execution_count": null,
   "metadata": {},
   "outputs": [],
   "source": [
    "n="
   ]
  }
 ],
 "metadata": {
  "kernelspec": {
   "display_name": "Python 3",
   "language": "python",
   "name": "python3"
  },
  "language_info": {
   "codemirror_mode": {
    "name": "ipython",
    "version": 3
   },
   "file_extension": ".py",
   "mimetype": "text/x-python",
   "name": "python",
   "nbconvert_exporter": "python",
   "pygments_lexer": "ipython3",
   "version": "3.7.6"
  }
 },
 "nbformat": 4,
 "nbformat_minor": 4
}
